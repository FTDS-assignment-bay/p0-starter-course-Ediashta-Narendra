{
 "cells": [
  {
   "cell_type": "markdown",
   "metadata": {},
   "source": [
    "NGC 1\n",
    "Student Name    : Narendra\n",
    "Batch           : FTDS 036 Remote"
   ]
  },
  {
   "cell_type": "markdown",
   "metadata": {},
   "source": []
  },
  {
   "cell_type": "code",
   "execution_count": 8,
   "metadata": {},
   "outputs": [],
   "source": [
    "def number_of_word (sentence):\n",
    "    word = sentence.split()\n",
    "    print(len(word))\n"
   ]
  },
  {
   "cell_type": "code",
   "execution_count": 9,
   "metadata": {},
   "outputs": [
    {
     "name": "stdout",
     "output_type": "stream",
     "text": [
      "2\n"
     ]
    }
   ],
   "source": [
    "number_of_word(\"saya budi\")"
   ]
  },
  {
   "cell_type": "code",
   "execution_count": 51,
   "metadata": {},
   "outputs": [],
   "source": [
    "array_1 = []\n",
    "\n",
    "def find_multiple(start_range, end_range, multiple):\n",
    "    for i in range(start_range, end_range+1):\n",
    "        if i % multiple == 0:\n",
    "            array_1.append(i)\n",
    "\n",
    "    print(array_1)\n",
    "            \n",
    "\n",
    "\n",
    "\n",
    "    "
   ]
  },
  {
   "cell_type": "code",
   "execution_count": 52,
   "metadata": {},
   "outputs": [
    {
     "name": "stdout",
     "output_type": "stream",
     "text": [
      "[2, 4, 6, 8, 10]\n"
     ]
    }
   ],
   "source": [
    "find_multiple(1,10,2)"
   ]
  },
  {
   "cell_type": "code",
   "execution_count": 73,
   "metadata": {},
   "outputs": [],
   "source": [
    "Letter_Grade = \"\"\n",
    "GPA = \"\""
   ]
  },
  {
   "cell_type": "code",
   "execution_count": 74,
   "metadata": {},
   "outputs": [
    {
     "name": "stdout",
     "output_type": "stream",
     "text": [
      "\n",
      "\n"
     ]
    }
   ],
   "source": [
    "print (Letter_Grade)\n",
    "print (GPA)"
   ]
  },
  {
   "cell_type": "code",
   "execution_count": 79,
   "metadata": {},
   "outputs": [
    {
     "name": "stdout",
     "output_type": "stream",
     "text": [
      "F\n",
      "1\n"
     ]
    }
   ],
   "source": [
    "score = 0\n",
    "Letter_Grade = \"\"\n",
    "GPA = \"\"\n",
    "if score >= 0 and score <= 39.99:\n",
    "    Letter_Grade = \"F\"\n",
    "    GPA = 1\n",
    "elif score >= 40 and score <= 49.99:\n",
    "    Letter_Grade = \"E\"\n",
    "    GPA = 1.5\n",
    "elif score >= 50 and score <= 59.99:\n",
    "    Letter_Grade = \"D\"\n",
    "    GPA = 2\n",
    "elif score >= 60 and score <= 69.99:\n",
    "    Letter_Grade = \"C\"\n",
    "    GPA = 2.5\n",
    "elif score >= 70 and score <= 84.99:\n",
    "    Letter_Grade = \"B\"\n",
    "    GPA = 3\n",
    "elif score >= 85 and score <= 100:\n",
    "    Letter_Grade = \"A\"\n",
    "    GPA = 4\n",
    "print (Letter_Grade)\n",
    "print (GPA)"
   ]
  },
  {
   "cell_type": "code",
   "execution_count": 98,
   "metadata": {},
   "outputs": [],
   "source": [
    "def kwargs_test (**test1):\n",
    "    test1"
   ]
  },
  {
   "cell_type": "code",
   "execution_count": 99,
   "metadata": {},
   "outputs": [
    {
     "name": "stdout",
     "output_type": "stream",
     "text": [
      "None\n"
     ]
    }
   ],
   "source": [
    "dictionary = kwargs_test(adam =62, faiz = 91)\n",
    "\n",
    "print(dictionary)"
   ]
  },
  {
   "cell_type": "code",
   "execution_count": 76,
   "metadata": {},
   "outputs": [
    {
     "ename": "IndentationError",
     "evalue": "expected an indented block (1174747949.py, line 2)",
     "output_type": "error",
     "traceback": [
      "\u001b[0;36m  Cell \u001b[0;32mIn[76], line 2\u001b[0;36m\u001b[0m\n\u001b[0;31m    \u001b[0m\n\u001b[0m    ^\u001b[0m\n\u001b[0;31mIndentationError\u001b[0m\u001b[0;31m:\u001b[0m expected an indented block\n"
     ]
    }
   ],
   "source": [
    "def Grade_Converter (convert_to,**kwargs):\n",
    "    for i in \n",
    "    Letter_Grade = \"\"\n",
    "    GPA = \"\"\n",
    "    if score >= 0 and score <= 39.99:\n",
    "        Letter_Grade = \"F\"\n",
    "        GPA = 1\n",
    "    elif score >= 40 and score <= 49.99:\n",
    "        Letter_Grade = \"E\"\n",
    "        GPA = 1.5\n",
    "    elif score >= 50 and score <= 59.99:\n",
    "        Letter_Grade = \"D\"\n",
    "        GPA = 2\n",
    "    elif score >= 60 and score <= 69.99:\n",
    "        Letter_Grade = \"C\"\n",
    "        GPA = 2.5\n",
    "    elif score >= 70 and score <= 84.99:\n",
    "        Letter_Grade = \"B\"\n",
    "        GPA = 3\n",
    "    elif score >= 85 and score <= 100:\n",
    "        Letter_Grade = \"A\"\n",
    "        GPA = 4"
   ]
  },
  {
   "cell_type": "code",
   "execution_count": 101,
   "metadata": {},
   "outputs": [],
   "source": [
    "#fiboaci\n",
    "strating = [0,1]\n",
    "store = []\n",
    "\n",
    "for i in range (5):\n",
    "    starting = 0"
   ]
  },
  {
   "cell_type": "code",
   "execution_count": 49,
   "metadata": {},
   "outputs": [
    {
     "name": "stdout",
     "output_type": "stream",
     "text": [
      "[1, 2, 3, 4]\n"
     ]
    }
   ],
   "source": [
    "array_test.append(4)\n",
    "\n",
    "print(array_test)"
   ]
  },
  {
   "cell_type": "code",
   "execution_count": 44,
   "metadata": {},
   "outputs": [
    {
     "name": "stdout",
     "output_type": "stream",
     "text": [
      "[5, 10, 15, 20]\n"
     ]
    }
   ],
   "source": [
    "find_multiple(1,20,5)"
   ]
  },
  {
   "cell_type": "code",
   "execution_count": 31,
   "metadata": {},
   "outputs": [
    {
     "name": "stdout",
     "output_type": "stream",
     "text": [
      "the amount of the word is: 12\n"
     ]
    }
   ],
   "source": [
    "#Create a function that count the number of word in a sentence.\n",
    "\n",
    "# Instruction:\n",
    "# 1.Create function called `number_of_word`.\n",
    "# 2.This function takes 1 input, `sentence`.\n",
    "# 3.Inside this function, you can utilize `.split()` method to split the sentence into list of word(s).\n",
    "# 4.Also, `len()` function to count the element inside a list.\n",
    "# 5.Return the number of word from the sentence.\n",
    "\n",
    "# Example:\n",
    "# -Input: number_of_word(sentence = ’Hello World!’)\n",
    "# -Output: 2-Input: number_of_word(sentence = ’Once Upon a Time in a faraway land’)-Output: 84\n",
    "\n",
    "sentence = \"Hello! my name Ahmed, I am from Pakistan, nice to meet you\" \n",
    "word = sentence.split()\n",
    "word_count = len(word)\n",
    "print (\"the amount of the word is:\", word_count)\n"
   ]
  },
  {
   "cell_type": "code",
   "execution_count": 34,
   "metadata": {},
   "outputs": [],
   "source": [
    "def number_of_word(sentence):\n",
    "    # Split the sentence into a list of words\n",
    "    words = sentence.split()\n",
    "    \n",
    "    # Return the number of words using len()\n",
    "    return len(words)\n",
    "\n"
   ]
  },
  {
   "cell_type": "code",
   "execution_count": 35,
   "metadata": {},
   "outputs": [
    {
     "name": "stdout",
     "output_type": "stream",
     "text": [
      "5\n"
     ]
    }
   ],
   "source": [
    "\n",
    "# Example usage\n",
    "sentence = \"This is an example sentence.\"\n",
    "print(number_of_word(sentence))  # Output: 5"
   ]
  },
  {
   "cell_type": "code",
   "execution_count": 32,
   "metadata": {},
   "outputs": [],
   "source": [
    "def number_of_word (sentence):\n",
    "    print(\"enter your sentence here\", sentence)\n",
    "#     print(split(sentence))"
   ]
  },
  {
   "cell_type": "code",
   "execution_count": 17,
   "metadata": {},
   "outputs": [
    {
     "ename": "NameError",
     "evalue": "name 'split' is not defined",
     "output_type": "error",
     "traceback": [
      "\u001b[0;31m---------------------------------------------------------------------------\u001b[0m",
      "\u001b[0;31mNameError\u001b[0m                                 Traceback (most recent call last)",
      "Cell \u001b[0;32mIn[17], line 1\u001b[0m\n\u001b[0;32m----> 1\u001b[0m \u001b[43mnumber_of_word\u001b[49m\u001b[43m(\u001b[49m\u001b[38;5;124;43m\"\u001b[39;49m\u001b[38;5;124;43mhalo nama saya Ahmad, saya suka bermain piano\u001b[39;49m\u001b[38;5;124;43m\"\u001b[39;49m\u001b[43m)\u001b[49m\n",
      "Cell \u001b[0;32mIn[16], line 17\u001b[0m, in \u001b[0;36mnumber_of_word\u001b[0;34m(sentence)\u001b[0m\n\u001b[1;32m     15\u001b[0m \u001b[38;5;28;01mdef\u001b[39;00m \u001b[38;5;21mnumber_of_word\u001b[39m (sentence):\n\u001b[1;32m     16\u001b[0m    \u001b[38;5;66;03m# print(\"enter your sentence here\", sentence)\u001b[39;00m\n\u001b[0;32m---> 17\u001b[0m     \u001b[38;5;28mprint\u001b[39m(\u001b[43msplit\u001b[49m(sentence))\n",
      "\u001b[0;31mNameError\u001b[0m: name 'split' is not defined"
     ]
    }
   ],
   "source": [
    "number_of_word(\"halo nama saya Ahmad, saya suka bermain piano\")"
   ]
  },
  {
   "cell_type": "code",
   "execution_count": 18,
   "metadata": {},
   "outputs": [
    {
     "name": "stdout",
     "output_type": "stream",
     "text": [
      "['Hello,', 'how', 'are', 'you', 'today?']\n"
     ]
    }
   ],
   "source": [
    "sentence = \"Hello, how are you today?\"\n",
    "words = sentence.split()\n",
    "\n",
    "print(words)"
   ]
  },
  {
   "cell_type": "code",
   "execution_count": 8,
   "metadata": {},
   "outputs": [
    {
     "name": "stdout",
     "output_type": "stream",
     "text": [
      "enter your sentence here budi\n"
     ]
    }
   ],
   "source": [
    "number_of_word(\"budi\")"
   ]
  },
  {
   "cell_type": "markdown",
   "metadata": {},
   "source": [
    "Instruction:\n",
    "1.Create function called `find_multiples`.\n",
    "2.This function takes 3 input: `start_range`, `end_range`, and `multiple`.\n",
    "3.From every number within the given range, check if that number is the mutliples of `multiple`.\n",
    "4.Return list of the possible multiple number(s)"
   ]
  },
  {
   "cell_type": "code",
   "execution_count": 1,
   "metadata": {},
   "outputs": [],
   "source": [
    "#Task 2 - Find Multiple\n",
    "\n",
    "\n",
    "\n",
    "def find_multiples (start_range, end_range, multiple):\n",
    "    print(\"find the multiple\")"
   ]
  }
 ],
 "metadata": {
  "kernelspec": {
   "display_name": "Python 3",
   "language": "python",
   "name": "python3"
  },
  "language_info": {
   "codemirror_mode": {
    "name": "ipython",
    "version": 3
   },
   "file_extension": ".py",
   "mimetype": "text/x-python",
   "name": "python",
   "nbconvert_exporter": "python",
   "pygments_lexer": "ipython3",
   "version": "3.9.6"
  }
 },
 "nbformat": 4,
 "nbformat_minor": 2
}
