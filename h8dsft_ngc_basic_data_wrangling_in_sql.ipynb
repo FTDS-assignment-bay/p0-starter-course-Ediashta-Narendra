{
 "cells": [
  {
   "cell_type": "code",
   "execution_count": null,
   "metadata": {},
   "outputs": [],
   "source": [
    "-- Create Table --\n",
    "CREATE TABLE customers (\n",
    "\tcustomer_id SERIAL PRIMARY KEY,\n",
    "\tcustomer_name VARCHAR (50),\n",
    "\tcity VARCHAR (20)\n",
    ");\n",
    "\n",
    "CREATE TABLE orders (\n",
    "\torder_id SERIAL PRIMARY KEY,\n",
    "\tcustomer_id INTEGER REFERENCES customers (customer_id),\n",
    "\torder_date DATE,\n",
    "\ttotal_amount FLOAT\n",
    ");\n",
    "\n",
    "-- Insert Tables Value for Customers --\n",
    "INSERT INTO customers (customer_name, city)\n",
    "VALUES\n",
    "\t('John Doe', 'New York'),\n",
    "\t('Jane Smith', 'Los Angles'),\n",
    "\t('David Johnson', 'Chicago');\n",
    "\t\n",
    "-- Insert Tables Value for Orders --\n",
    "INSERT INTO orders (customer_id, order_date, total_amount)\n",
    "VALUES\n",
    "\t(1,'2022-01-10', 100.00),\n",
    "\t(1,'2022-02-15', 150.00),\n",
    "\t(2,'2022-03-20', 200.00),\n",
    "\t(3,'2022=04-25', 50.00);\n",
    "\n",
    "-- Merging Orders and Customers Table --\n",
    "ALTER TABLE orders\n",
    "\tADD COLUMN customer_name VARCHAR (50);\n",
    "-- Update column --\n",
    "ALTER TABLE orders\n",
    "\tADD FOREIGN KEY (customer_name) REFERENCES customers (customer_name);\n",
    "\tSET customer_name REFERENCES customers (customer_name);\n",
    "\n",
    "--Left Join menggunakan customer_id--\n",
    "\n",
    "SELECT customers.customer_name, COUNT(orders.order_id) AS total_order\n",
    "FROM customers\n",
    "LEFT JOIN orders ON customers.customer_id = orders.customer_id\n",
    "GROUP BY customers.customer_name;"
   ]
  }
 ],
 "metadata": {
  "language_info": {
   "name": "python"
  }
 },
 "nbformat": 4,
 "nbformat_minor": 2
}
